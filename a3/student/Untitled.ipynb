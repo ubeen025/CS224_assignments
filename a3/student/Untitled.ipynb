{
 "cells": [
  {
   "cell_type": "code",
   "execution_count": 1,
   "id": "4775cca8-885c-4bb6-aceb-b7d146f239f8",
   "metadata": {},
   "outputs": [],
   "source": [
    "import sys"
   ]
  },
  {
   "cell_type": "code",
   "execution_count": null,
   "id": "a5d59ae9-76eb-4fa4-8048-c02714e4441c",
   "metadata": {},
   "outputs": [],
   "source": [
    "class PartialParse(object):\n",
    "    def __init__(self, sentence):\n",
    "        \n",
    "        self.sentence = sentence\n",
    "        ###       reference the sentence object.  That is, remember to NOT modify the sentence object. \n",
    "        self.stack= ['ROOT']  # List that only has the 'ROOT' which is a default input\n",
    "        self.buffer= list(sentence) \n",
    "        self.dependencies= [] \n",
    "    \n",
    "    def parse_step(self, transition):\n",
    "        ### YOUR CODE HERE (~7-12 Lines)\n",
    "        ### TODO:\n",
    "        ###     Implement a single parsing step, i.e. the logic for the following as\n",
    "        ###     described in the pdf handout:\n",
    "        ###         1. Shift\n",
    "        ###         2. Left Arc\n",
    "        ###         3. Right Arc\n",
    "        if transition=='SHIFT' and self.buffer: \n",
    "            self.stack.append(self.buffer.pop(0))\n",
    "        if transition=='LEFT ARC': \n",
    "            pop= self.stack.pop(-2)\n",
    "            self.dependencies.append((self.stack[-2],pop))\n",
    "        if transition=='RIGHT ARC':\n",
    "            POP= self.stack.pop(-1)\n",
    "            self.dependencies.append((self.stack[-1],POP))\n",
    "        ### END YOUR CODE\n",
    "\n",
    "\n",
    "def minibatch_parse(sentences, model, batch_size):\n",
    "    \"\"\"\n",
    "    Parses a list of sentences in minibatches using a model.\n",
    "\n",
    "    @param sentences (list of list of str): A list of sentences to be parsed (each sentence is a list of words).\n",
    "    @param model (object): The model that makes parse decisions. It should have a predict method that takes a list of \n",
    "                           partial parses as input and returns a list of transitions as output.\n",
    "    @param batch_size (int): The number of sentences to parse in each minibatch.\n",
    "\n",
    "    @return (list of list of tuples): A list where each element is the list of dependencies for a parsed sentence.\n",
    "    \"\"\"\n",
    "    # Initialize partial parses for each sentence\n",
    "    partial_parses = [PartialParse(sentence) for sentence in sentences]\n",
    "    # Initialize unfinished parses as a shallow copy of partial parses\n",
    "    unfinished_parses = partial_parses[:]\n",
    "\n",
    "    while unfinished_parses:\n",
    "        # Take the first batch_size parses in unfinished parses as a minibatch\n",
    "        minibatch = unfinished_parses[:batch_size]\n",
    "        # Use the model to predict the next transition for each partial parse in the minibatch\n",
    "        transitions = model.predict(minibatch)\n",
    "        # Perform a parse step on each partial parse in the minibatch with its predicted transition\n",
    "        for partial_parse, transition in zip(minibatch, transitions):\n",
    "            partial_parse.parse_step(transition)\n",
    "        # Remove the completed (empty buffer and stack of size 1) parses from unfinished parses\n",
    "        unfinished_parses = [parse for parse in unfinished_parses if not (len(parse.buffer) == 0 and len(parse.stack) == 1)]\n",
    "\n",
    "    # Return the dependencies for each (now completed) parse in partial parses\n",
    "    return [partial_parse.dependencies for partial_parse in partial_parses]\n",
    "\n",
    "# Example model for demonstration purposes\n",
    "class DummyModel:\n",
    "    def predict(self, partial_parses):\n",
    "        # Dummy predict function that always returns \"SHIFT\" for simplicity\n",
    "        return [\"SHIFT\" for _ in partial_parses]"
   ]
  },
  {
   "cell_type": "code",
   "execution_count": null,
   "id": "c735da16-bd83-4028-b722-05be0bbbd990",
   "metadata": {},
   "outputs": [],
   "source": [
    "sentences = [[\"I\", \"love\", \"NLP\"], [\"This\", \"is\", \"a\", \"test\"]]\n",
    "model = DummyModel()\n",
    "batch_size = 2\n",
    "dependencies = minibatch_parse(sentences, model, batch_size)\n",
    "print(dependencies)"
   ]
  },
  {
   "cell_type": "code",
   "execution_count": null,
   "id": "46af8e48-ff9b-42a7-8618-675305c64f32",
   "metadata": {},
   "outputs": [],
   "source": [
    "sentence = [\"I\", \"love\", \"NLP\"]\n",
    "partial_parse = PartialParse(sentence)"
   ]
  },
  {
   "cell_type": "code",
   "execution_count": 19,
   "id": "d7547e59-7e53-4f6a-9966-ab56c9467cf3",
   "metadata": {},
   "outputs": [
    {
     "name": "stdout",
     "output_type": "stream",
     "text": [
      "['ROOT']\n"
     ]
    }
   ],
   "source": [
    "print(partial_parse.stack)"
   ]
  },
  {
   "cell_type": "code",
   "execution_count": 20,
   "id": "d8d085fd-ef66-4098-833b-1d86d71e8ceb",
   "metadata": {},
   "outputs": [
    {
     "name": "stdout",
     "output_type": "stream",
     "text": [
      "['I', 'love', 'NLP']\n",
      "[]\n"
     ]
    }
   ],
   "source": [
    "print(partial_parse.buffer)\n",
    "print(partial_parse.dependencies)"
   ]
  },
  {
   "cell_type": "code",
   "execution_count": 21,
   "id": "446a3a13-c34d-43a8-abbf-43f7df0b69b3",
   "metadata": {},
   "outputs": [
    {
     "name": "stdout",
     "output_type": "stream",
     "text": [
      "['ROOT', 'I']\n",
      "['love', 'NLP']\n"
     ]
    }
   ],
   "source": [
    "partial_parse.parse_step(\"SHIFT\")\n",
    "print(partial_parse.stack)       # Output: ['ROOT', 'I']\n",
    "print(partial_parse.buffer)      # Output: ['love', 'NLP']"
   ]
  },
  {
   "cell_type": "code",
   "execution_count": 22,
   "id": "78e5fdd1-965b-4dc6-bf49-883167c45e57",
   "metadata": {},
   "outputs": [
    {
     "name": "stdout",
     "output_type": "stream",
     "text": [
      "['ROOT', 'I', 'love']\n",
      "['NLP']\n"
     ]
    }
   ],
   "source": [
    "partial_parse.parse_step(\"SHIFT\")\n",
    "print(partial_parse.stack)       # Output: ['ROOT', 'I', 'love']\n",
    "print(partial_parse.buffer)      # Output: ['NLP']"
   ]
  },
  {
   "cell_type": "code",
   "execution_count": null,
   "id": "1eccf2c5-1255-4c49-8a9e-b2c17ae8deac",
   "metadata": {},
   "outputs": [],
   "source": [
    "partial_parse.parse_step(\"RIGHT-ARC\")\n",
    "print(partial_parse.stack)       # Output: ['ROOT', 'I']\n",
    "print(partial_parse.buffer)      # Output: ['NLP']\n",
    "print(partial_parse.dependencies) # Output: [('I', 'love')]"
   ]
  },
  {
   "cell_type": "code",
   "execution_count": null,
   "id": "cd6b5175-d059-448c-8fe7-fd190df1ba8e",
   "metadata": {},
   "outputs": [],
   "source": []
  }
 ],
 "metadata": {
  "kernelspec": {
   "display_name": "Python 3 (ipykernel)",
   "language": "python",
   "name": "python3"
  },
  "language_info": {
   "codemirror_mode": {
    "name": "ipython",
    "version": 3
   },
   "file_extension": ".py",
   "mimetype": "text/x-python",
   "name": "python",
   "nbconvert_exporter": "python",
   "pygments_lexer": "ipython3",
   "version": "3.11.5"
  }
 },
 "nbformat": 4,
 "nbformat_minor": 5
}
